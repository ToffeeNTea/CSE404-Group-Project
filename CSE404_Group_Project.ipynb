{
  "nbformat": 4,
  "nbformat_minor": 0,
  "metadata": {
    "colab": {
      "provenance": [],
      "authorship_tag": "ABX9TyPPDX3zaoeRyaiInC0k5u9C",
      "include_colab_link": true
    },
    "kernelspec": {
      "name": "python3",
      "display_name": "Python 3"
    },
    "language_info": {
      "name": "python"
    }
  },
  "cells": [
    {
      "cell_type": "markdown",
      "metadata": {
        "id": "view-in-github",
        "colab_type": "text"
      },
      "source": [
        "<a href=\"https://colab.research.google.com/github/ToffeeNTea/CSE404-Group-Project/blob/main/CSE404_Group_Project.ipynb\" target=\"_parent\"><img src=\"https://colab.research.google.com/assets/colab-badge.svg\" alt=\"Open In Colab\"/></a>"
      ]
    },
    {
      "cell_type": "markdown",
      "source": [
        "This is the Jupyter Notebook file for our CSE 404 Group Project. This will be run on Google Colab, and stored on Github at https://github.com/ToffeeNTea/CSE404-Group-Project.git\n",
        "\n",
        "IN ORDER TO SAVE YOUR CHANGES:\n",
        "1. Click ```File``` → ```Save a copy in Github```\n",
        "2. Select the repository ```ToffeeNTea/CSE404-Group-Project``` under branch ```main```\n",
        "3. Do not change the filepath\n",
        "4. Change the commit message\n",
        "5. Press ```OK```"
      ],
      "metadata": {
        "id": "Y38nhRDjI5JN"
      }
    },
    {
      "cell_type": "code",
      "source": [
        "print(\"testing\")"
      ],
      "metadata": {
        "id": "DncIpAgrK88N"
      },
      "execution_count": 11,
      "outputs": []
    },
    {
      "cell_type": "code",
      "source": [],
      "metadata": {
        "id": "5_V6Ogq7NrcW"
      },
      "execution_count": null,
      "outputs": []
    },
    {
      "cell_type": "code",
      "execution_count": 11,
      "metadata": {
        "id": "W5L7zhT6I0jx"
      },
      "outputs": [],
      "source": []
    }
  ]
}