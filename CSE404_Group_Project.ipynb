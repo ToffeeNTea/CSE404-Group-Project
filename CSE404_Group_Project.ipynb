{
  "nbformat": 4,
  "nbformat_minor": 0,
  "metadata": {
    "colab": {
      "provenance": [],
      "authorship_tag": "ABX9TyPfBKRRStJI6JXbNZMJEwQC",
      "include_colab_link": true
    },
    "kernelspec": {
      "name": "python3",
      "display_name": "Python 3"
    },
    "language_info": {
      "name": "python"
    }
  },
  "cells": [
    {
      "cell_type": "markdown",
      "metadata": {
        "id": "view-in-github",
        "colab_type": "text"
      },
      "source": [
        "<a href=\"https://colab.research.google.com/github/ToffeeNTea/CSE404-Group-Project/blob/main/CSE404_Group_Project.ipynb\" target=\"_parent\"><img src=\"https://colab.research.google.com/assets/colab-badge.svg\" alt=\"Open In Colab\"/></a>"
      ]
    },
    {
      "cell_type": "markdown",
      "source": [
        "This is the Jupyter Notebook file for our CSE 404 Group Project. This will be run on Google Colab, and stored on Github at https://github.com/ToffeeNTea/CSE404-Group-Project.git"
      ],
      "metadata": {
        "id": "Y38nhRDjI5JN"
      }
    },
    {
      "cell_type": "code",
      "execution_count": null,
      "metadata": {
        "id": "W5L7zhT6I0jx"
      },
      "outputs": [],
      "source": []
    }
  ]
}